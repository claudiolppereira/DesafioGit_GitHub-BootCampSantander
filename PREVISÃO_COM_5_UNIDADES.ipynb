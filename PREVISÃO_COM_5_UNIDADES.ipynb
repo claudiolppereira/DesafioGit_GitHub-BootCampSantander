{
  "nbformat": 4,
  "nbformat_minor": 0,
  "metadata": {
    "colab": {
      "provenance": [],
      "authorship_tag": "ABX9TyPcKElb+6TcjK0xlHBHmnV5",
      "include_colab_link": true
    },
    "kernelspec": {
      "name": "python3",
      "display_name": "Python 3"
    },
    "language_info": {
      "name": "python"
    }
  },
  "cells": [
    {
      "cell_type": "markdown",
      "metadata": {
        "id": "view-in-github",
        "colab_type": "text"
      },
      "source": [
        "<a href=\"https://colab.research.google.com/github/claudiolppereira/DesafioGit_GitHub-BootCampSantander/blob/main/PREVIS%C3%83O_COM_5_UNIDADES.ipynb\" target=\"_parent\"><img src=\"https://colab.research.google.com/assets/colab-badge.svg\" alt=\"Open In Colab\"/></a>"
      ]
    },
    {
      "cell_type": "code",
      "execution_count": null,
      "metadata": {
        "id": "tLYJWktfr16o"
      },
      "outputs": [],
      "source": [
        "PREVISÃO COM"
      ]
    }
  ]
}